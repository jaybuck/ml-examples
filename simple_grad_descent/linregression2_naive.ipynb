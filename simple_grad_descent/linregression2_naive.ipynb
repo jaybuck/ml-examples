{
 "cells": [
  {
   "cell_type": "markdown",
   "metadata": {},
   "source": [
    "# Linear Regression via Gradient Descent Tutorial"
   ]
  },
  {
   "cell_type": "markdown",
   "metadata": {},
   "source": [
    "## Coded using naive computation of gradients"
   ]
  },
  {
   "cell_type": "code",
   "execution_count": null,
   "metadata": {},
   "outputs": [],
   "source": [
    "%matplotlib inline\n",
    "\n",
    "import sys\n",
    "import os\n",
    "import time\n",
    "import numpy as np\n",
    "import matplotlib.pyplot as plt\n"
   ]
  },
  {
   "cell_type": "markdown",
   "metadata": {},
   "source": [
    "This notebook shows how to implement linear regression via gradient descent on a set of points in 2D.  \n",
    "\n",
    "We implement a class called `LinearRegressionModelNaive` to compute the best-fit line.  \n",
    "That is, this model computes the slope and intercept of the line that best fits the set of input x, y points.  \n",
    "Best fit is defined as the line such that for the set of input points, the mean of the squared distance of each point to the line in the y direction is minimized. That is, if \n",
    "\n",
    "$m = $ number of points  \n",
    "$w = $ slope  \n",
    "$b = $ intercept   \n",
    "\n",
    "And the output of the model for any $x$ is:  \n",
    "$$\\hat{y} = wx + b$$\n",
    "\n",
    "We want chose $w$ and $b$ to minimize cost $J$:\n",
    "$$J = \\frac{1}{m} \\sum_{i=1}^{m} (y - \\hat{y})^2$$\n",
    "\n",
    "The y-squared loss for any particular point is:\n",
    "$$\\mathscr{L} = \\frac{1}{2} (y - \\hat{y})^2 = \\frac{1}{2}(y^2 - 2y\\hat{y} + \\hat{y}^2)$$\n",
    "\n",
    "The derivative of $\\mathscr{L}$ with respect to $\\hat{y}$ is:\n",
    "\n",
    "$$ \\frac{d \\mathscr{L}}{d \\hat{y}} = \\frac{1}{2}(-2y + 2\\hat{y}) = \\hat{y} - y $$\n",
    "\n",
    "Then we compute the partials of $\\hat{y}$ with respect to $w$ and $b$:\n",
    "$$\\frac{\\partial \\hat{y}}{\\partial w} = x$$\n",
    "$$\\frac{\\partial \\hat{y}}{\\partial b} = 1$$\n",
    "\n",
    "We then use the chain rule to get what we need: the partials of the loss $\\mathscr{L}$ with repect to $w$ and $b$:\n",
    "\n",
    "$$ \\frac{\\partial \\mathscr{L}}{\\partial w} = \\frac{d \\mathscr{L}}{d \\hat{y}} \\frac{\\partial \\hat{y}}{\\partial w} = x(\\hat{y} - y)$$\n",
    "$$ \\frac{\\partial \\mathscr{L}}{\\partial b} = \\frac{d \\mathscr{L}}{d \\hat{y}} \\frac{\\partial \\hat{y}}{\\partial b} = (\\hat{y} - y)$$\n",
    "\n",
    "To compute the gradients with respect to the overall cost $J$ we simply average across the losses for each point in the set:\n",
    "\n",
    "$$\\frac{\\partial J}{\\partial w} = \\frac{1}{m} \\sum_{i=1}^{m} x^{(i)}(\\hat{y}^{(i)} - y^{(i)})$$\n",
    "\n",
    "$$\\frac{\\partial J}{\\partial b} = \\frac{1}{m} \\sum_{i=1}^{m} (\\hat{y}^{(i)} - y^{(i)})$$\n",
    "\n",
    "These gradients point in the direction of increasing cost $J$. So to decrease the cost, we move $w$ and $b$ a small amount in the opposite directions of the gradients. Let:\n",
    "\n",
    "$\\alpha = $ learning rate, typically a small number like $0.001$\n",
    "\n",
    "We modify $w$ and $b$ with these equations:\n",
    "\n",
    "$$w = w - \\alpha \\frac{\\partial J}{\\partial w}$$\n",
    "$$b = b - \\alpha \\frac{\\partial J}{\\partial b}$$\n",
    "\n",
    "We see this implemented in the __fit()__ function for the `LinearRegressionModelNaive` class below.\n"
   ]
  },
  {
   "cell_type": "markdown",
   "metadata": {},
   "source": [
    "### What we want:\n",
    "\n",
    "After we have trained a model, we want it to have learned a line with slope and intercept very close to the ones you get from the usual formula for the linear regression best-fit line. Here is an example of a set of points and the linear regression best-fit line. We want this:"
   ]
  },
  {
   "attachments": {
    "linpoints50.png": {
     "image/png": "[encoded data removed]"
    }
   },
   "cell_type": "markdown",
   "metadata": {},
   "source": [
    "![linpoints50.png](attachment:linpoints50.png)"
   ]
  },
  {
   "cell_type": "code",
   "execution_count": null,
   "metadata": {},
   "outputs": [],
   "source": [
    "def read_points_file(fname, delim='\\t'):\n",
    "    \"\"\"Read x y points from a text file, returning numpy arrays containing the x coordinates and the y coordinates.\n",
    "\n",
    "    Each line in the text file holds one point. m points total.\n",
    "    :param fname: Name of file holding x, y coordinates\n",
    "    :type fname: string\n",
    "    :param delim: Deliminter between fields in the text file\n",
    "    :type delim: string (one character)\n",
    "    :return xs: Array holding x coordinate of points\n",
    "    :type xs: numpy array of floats of shape (1, m)\n",
    "    :return ys: Array holding y coordinate of points\n",
    "    :type ys: numpy array of floats of shape (1, m)\n",
    "    \"\"\"\n",
    "    dat1 = np.loadtxt(fname, delimiter=delim)\n",
    "    m = dat1.shape[0]\n",
    "    xs = dat1[:, 0]\n",
    "    ys = dat1[:, 1]\n",
    "    return xs, ys"
   ]
  },
  {
   "cell_type": "code",
   "execution_count": null,
   "metadata": {},
   "outputs": [],
   "source": [
    "class LinearRegressionModelNaive:\n",
    "    \"\"\"\n",
    "    Class used to implement linear regression model, naively.\n",
    "\n",
    "    Attributes\n",
    "    ----------\n",
    "    coef_ : linear model coefficients\n",
    "    intercept_ : linear model intercept\n",
    "\n",
    "    Methods\n",
    "    -------\n",
    "    fit(x, y, nepochs) : compute coefficients of best fit line\n",
    "    \"\"\"\n",
    "\n",
    "    def __init__(self, slope=0.0, intercept=0.0):\n",
    "        \"\"\"\n",
    "        Parameters\n",
    "        ----------\n",
    "        slope : float, optional\n",
    "            Initial value of slope\n",
    "        intercept : float, optional\n",
    "            Initial value of intercept\n",
    "        \"\"\"\n",
    "\n",
    "        self.coef_ = np.zeros(1)\n",
    "        self.coef_[0] = slope\n",
    "        self.intercept_ = intercept\n",
    "        self.cost_ = 0.0\n",
    "        self.r2_score = None\n",
    "        \n",
    "    def fit(self, xs, ys, nepochs=10, learnrate=0.01):\n",
    "        \"\"\"Computes slope and intercept of best fit line for points.\n",
    "\n",
    "        Parameters\n",
    "        ----------\n",
    "        xs : numpy array of shape (m,) floats where m is the number of points\n",
    "            The x coordinates of the points\n",
    "        ys : numpy array of shape (m,) floats\n",
    "            The y coordinates of the points\n",
    "        nepochs : int\n",
    "            Number of training epochs\n",
    "        learnrate : float\n",
    "            Learning rate\n",
    "\n",
    "        Action\n",
    "        Computes the slope and interecept of the best-fit line for a set of points\n",
    "        and put those into coef_[0][0] and intercept_ , respectively.\n",
    "        \"\"\"\n",
    "\n",
    "        # A couple checks on the parameters:\n",
    "\n",
    "        # The xs and ys must be the same length\n",
    "        assert(xs.shape == ys.shape)\n",
    "        assert(nepochs > 0)\n",
    "\n",
    "        w = self.coef_[0]\n",
    "        b = self.intercept_\n",
    "\n",
    "        # We'll need the number of points a lot:\n",
    "        m = xs.shape[0]\n",
    "\n",
    "        # The mean of the y values will be used for evaluating the model.\n",
    "        y_mean = ys.mean()\n",
    "\n",
    "        sys.stderr.write('m: {}\\n'.format(m))\n",
    "        sys.stderr.write('y_mean: {}\\n'.format(y_mean))\n",
    "        sys.stderr.write('Initial w {}    b {}\\n'.format(w, b))\n",
    "        \n",
    "        # How often to print training stats.\n",
    "        training_stats_interval = 100\n",
    "        if nepochs < 210:\n",
    "            training_stats_interval = 10\n",
    "        elif nepochs > 40000:\n",
    "            training_stats_interval = 1000\n",
    "\n",
    "        t0 = time.perf_counter()\n",
    "\n",
    "        for epoch in range(nepochs):\n",
    "            # Compute cost J and gradients at each epoch\n",
    "            J = 0.0\n",
    "            dw = 0.0\n",
    "            db = 0.0\n",
    "\n",
    "            for i in range(m):\n",
    "                # Compute activation (or yhat) for x_i using current w and b.\n",
    "                a = w * xs[i] + b\n",
    "                # Use mean squared error loss\n",
    "                J += (ys[i] - a)**2\n",
    "                dw += xs[i] * (a - ys[i])\n",
    "                db += (a - ys[i])\n",
    "\n",
    "            J /= m\n",
    "            dw /= m\n",
    "            db /= m\n",
    "\n",
    "            w -= learnrate * dw\n",
    "            b -= learnrate * db\n",
    "            \n",
    "            if (epoch % training_stats_interval) == 0:\n",
    "                sys.stderr.write('epoch: {:6d}\\tcost: {:8.4f}\\tw: {:8.4f}\\tb: {:8.4f}\\n'.format(epoch, J, w, b))\n",
    "\n",
    "        t1 = time.perf_counter()\n",
    "        sys.stderr.write('Train time: {0:10.4f} sec\\n'.format(t1 - t0))\n",
    "\n",
    "        # Evaluations:\n",
    "        # Compute R^2 metric\n",
    "        null_model_v = 0.0\n",
    "        for i in range(m):\n",
    "            null_model_v += (ys[i] - y_mean)**2\n",
    "\n",
    "        null_model_v /= m\n",
    "        self.r2_score = 1.0 - J / null_model_v\n",
    "\n",
    "        self.coef_[0] = w\n",
    "        self.intercept_ = b\n",
    "        self.cost_ = J\n",
    "        return w, b"
   ]
  },
  {
   "cell_type": "markdown",
   "metadata": {},
   "source": [
    "## Run the linear regression model\n",
    "\n",
    "To run the linear regression model we defined above, we:\n",
    "* Set the values of variables we would have set via the command line.\n",
    "* Read the x, y points in from the points_filename\n",
    "* Build and run the linear regression model\n",
    "* Plot the points and the linear regression model line."
   ]
  },
  {
   "cell_type": "code",
   "execution_count": null,
   "metadata": {},
   "outputs": [],
   "source": [
    "# Parameters for running the linear regression model\n",
    "examples_dir = '/Users/jay/github/ml-examples'\n",
    "data_dir = os.path.join(examples_dir, 'data')\n",
    "points_basename = 'linpoints50.txt'\n",
    "points_filename = os.path.join(data_dir, points_basename)\n",
    "\n",
    "plot_filename = '_regression.png'\n",
    "nepochs = 501\n",
    "learnrate = 0.01\n"
   ]
  },
  {
   "cell_type": "code",
   "execution_count": null,
   "metadata": {},
   "outputs": [],
   "source": [
    "# Read points\n",
    "xs, ys = read_points_file(points_filename)\n",
    "\n",
    "print('xs shape: {}'.format(xs.shape))\n",
    "print('ys shape: {}'.format(ys.shape))"
   ]
  },
  {
   "cell_type": "code",
   "execution_count": null,
   "metadata": {},
   "outputs": [],
   "source": [
    "xs[0:10]"
   ]
  },
  {
   "cell_type": "code",
   "execution_count": null,
   "metadata": {},
   "outputs": [],
   "source": [
    "ys[0:10]"
   ]
  },
  {
   "cell_type": "markdown",
   "metadata": {},
   "source": [
    "### Compute the best fit linear regression model"
   ]
  },
  {
   "cell_type": "markdown",
   "metadata": {},
   "source": [
    "For the example set of points shown below, the best-fit line computed using the usual formula has parameters:<br>\n",
    "$slope = 0.511$<br>\n",
    "$intercept = 1.856$"
   ]
  },
  {
   "cell_type": "code",
   "execution_count": null,
   "metadata": {},
   "outputs": [],
   "source": [
    "linregmodel = LinearRegressionModelNaive(slope=0.1, intercept=0.1)\n",
    "slope, b = linregmodel.fit(xs, ys, nepochs=nepochs, learnrate=learnrate)\n",
    "print('Best fit model: cost {}\\tslope: {}\\tb: {}'.format(linregmodel.cost_, slope, b))\n",
    "print('R^2 score: {}'.format(linregmodel.r2_score))"
   ]
  },
  {
   "cell_type": "code",
   "execution_count": null,
   "metadata": {},
   "outputs": [],
   "source": [
    "# Plot the points and the best-fit line\n",
    "\n",
    "# Build two points to plot the best-fit line\n",
    "xmin = xs.min()\n",
    "xmax = xs.max()\n",
    "\n",
    "x_fit = np.array([xmin, xmax])\n",
    "y_fit = slope * x_fit + b\n",
    "\n",
    "# Plot the points and line:\n",
    "plt.figure()\n",
    "plt.xlabel('x')\n",
    "plt.ylabel('y')\n",
    "plt.title('Gradient Descent Linear Regression Example')\n",
    "plt.axis('equal')\n",
    "plt.plot(xs, ys, 'bo', label='point cloud')\n",
    "plt.plot(x_fit, y_fit, 'r-', label='best fit line')\n",
    "plt.legend()\n",
    "plt.show()\n"
   ]
  }
 ],
 "metadata": {
  "kernelspec": {
   "display_name": "Python 3",
   "language": "python",
   "name": "python3"
  },
  "language_info": {
   "codemirror_mode": {
    "name": "ipython",
    "version": 3
   },
   "file_extension": ".py",
   "mimetype": "text/x-python",
   "name": "python",
   "nbconvert_exporter": "python",
   "pygments_lexer": "ipython3",
   "version": "3.6.7"
  }
 },
 "nbformat": 4,
 "nbformat_minor": 2
}
