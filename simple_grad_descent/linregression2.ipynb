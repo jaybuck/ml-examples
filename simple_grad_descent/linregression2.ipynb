{
 "cells": [
  {
   "cell_type": "markdown",
   "metadata": {},
   "source": [
    "# Linear Regression via Gradient Descent Tutorial"
   ]
  },
  {
   "cell_type": "code",
   "execution_count": 2,
   "metadata": {},
   "outputs": [],
   "source": [
    "%matplotlib inline\n",
    "\n",
    "import sys\n",
    "import os\n",
    "import time\n",
    "import numpy as np\n",
    "import matplotlib.pyplot as plt\n"
   ]
  },
  {
   "cell_type": "markdown",
   "metadata": {},
   "source": [
    "This notebook shows how to implement linear regression via gradient descent on a set of points in 2D.  \n",
    "\n",
    "We implement a class called LinearRegressionModelVectorized to compute the best-fit line.  \n",
    "That is, this model computes the slope and intercept of the line that best fits the set of input x, y points.  \n",
    "Best fit is defined as the line such that for the set of input points, the mean of the squared distance of each point to the line in the y direction is minimized. That is, if \n",
    "\n",
    "$m = $ number of points  \n",
    "$w = $ slope (w stands for a learned weight in machine learning models)<br>\n",
    "$b = $ intercept   \n",
    "\n",
    "And the output of the model for any $x$ is:  \n",
    "\n",
    "$$\\hat{y} = wx + b$$\n",
    "\n",
    "We want chose $w$ and $b$ to minimize cost $J$:\n",
    "\n",
    "$$J = \\frac{1}{m} \\sum_{i=1}^{m} (y - \\hat{y})^2$$\n",
    "\n",
    "The y-squared loss for any particular point is:\n",
    "\n",
    "$$\\mathscr{L} = \\frac{1}{2} (y - \\hat{y})^2 = \\frac{1}{2}(y^2 - 2y\\hat{y} + \\hat{y}^2)$$\n",
    "\n",
    "The derivative of $\\mathscr{L}$ with respect to $\\hat{y}$ is:\n",
    "\n",
    "$$ \\frac{d \\mathscr{L}}{d \\hat{y}} = \\frac{1}{2}(-2y + 2\\hat{y}) = \\hat{y} - y $$\n",
    "\n",
    "Then we compute the partials of $\\hat{y}$ with respect to $w$ and $b$:\n",
    "\n",
    "$$\\frac{\\partial \\hat{y}}{\\partial w} = x$$\n",
    "\n",
    "$$\\frac{\\partial \\hat{y}}{\\partial b} = 1$$\n",
    "\n",
    "We then use the chain rule to get what we need: the partials of the loss $\\mathscr{L}$ with repect to $w$ and $b$:\n",
    "\n",
    "$$ \\frac{\\partial \\mathscr{L}}{\\partial w} = \\frac{d \\mathscr{L}}{d \\hat{y}} \\frac{\\partial \\hat{y}}{\\partial w} = x(\\hat{y} - y)$$\n",
    "\n",
    "$$ \\frac{\\partial \\mathscr{L}}{\\partial b} = \\frac{d \\mathscr{L}}{d \\hat{y}} \\frac{\\partial \\hat{y}}{\\partial b} = (\\hat{y} - y)$$\n",
    "\n",
    "To compute the gradients with respect to the overall cost $J$ we simply average across the losses for each point in the set:\n",
    "\n",
    "$$\\frac{\\partial J}{\\partial w} = \\frac{1}{m} \\sum_{i=1}^{m} x^{(i)}(\\hat{y}^{(i)} - y^{(i)})$$\n",
    "\n",
    "$$\\frac{\\partial J}{\\partial b} = \\frac{1}{m} \\sum_{i=1}^{m} (\\hat{y}^{(i)} - y^{(i)})$$\n",
    "\n",
    "These gradients point in the direction of increasing cost $J$. So to decrease the cost, we move $w$ and $b$ a small amount in the opposite directions of the gradients. Let:\n",
    "\n",
    "$\\alpha = $ learning rate, typically a small number like $0.001$\n",
    "\n",
    "We modify $w$ and $b$ with these equations:\n",
    "\n",
    "$$w = w - \\alpha \\frac{\\partial J}{\\partial w}$$\n",
    "\n",
    "$$b = b - \\alpha \\frac{\\partial J}{\\partial b}$$\n",
    "\n",
    "We see this implemented in the __fit()__ function for the `LinearRegressionModelVectorized` class below.\n"
   ]
  },
  {
   "cell_type": "markdown",
   "metadata": {},
   "source": [
    "### What we want:\n",
    "\n",
    "After we have trained a model, we want it to have learned a line with slope and intercept very close to the ones you get from the usual formula for the linear regression best-fit line. Here is an example of a set of points and the linear regression best-fit line. We want this:"
   ]
  },
  {
   "attachments": {
    "linpoints50.png": {
     "image/png": "[encoded data removed]"
    }
   },
   "cell_type": "markdown",
   "metadata": {},
   "source": [
    "![linpoints50.png](attachment:linpoints50.png)"
   ]
  },
  {
   "cell_type": "code",
   "execution_count": 3,
   "metadata": {},
   "outputs": [],
   "source": [
    "def read_points_file(fname, delim='\\t'):\n",
    "    \"\"\"Read x y points from a text file, returning numpy arrays containing the x coordinates and the y coordinates.\n",
    "\n",
    "    Each line in the text file holds one point. m points total.\n",
    "    :param fname: Name of file holding x, y coordinates\n",
    "    :type fname: string\n",
    "    :param delim: Deliminter between fields in the text file\n",
    "    :type delim: string (one character)\n",
    "    :return xs: Array holding x coordinate of points\n",
    "    :type xs: numpy array of floats of shape (1, m)\n",
    "    :return ys: Array holding y coordinate of points\n",
    "    :type ys: numpy array of floats of shape (1, m)\n",
    "    \"\"\"\n",
    "    dat1 = np.loadtxt(fname, delimiter=delim)\n",
    "    m = dat1.shape[0]\n",
    "    xs = dat1[:, 0].reshape(1,m)\n",
    "    ys = dat1[:, 1].reshape(1,m)\n",
    "    return xs, ys"
   ]
  },
  {
   "cell_type": "code",
   "execution_count": 4,
   "metadata": {},
   "outputs": [],
   "source": [
    "class LinearRegressionModelVectorized:\n",
    "    \"\"\"\n",
    "    Class used to implement linear regression model, vectorized using numpy.\n",
    "\n",
    "    Attributes\n",
    "    ----------\n",
    "    coef_ : linear model coefficients\n",
    "    intercept_ : linear model intercept\n",
    "\n",
    "    Methods\n",
    "    -------\n",
    "    fit(x, y, nepochs) : compute coefficients of best fit line\n",
    "    \"\"\"\n",
    "\n",
    "    def __init__(self, slope=0.0, intercept=0.0):\n",
    "        \"\"\"\n",
    "        Parameters\n",
    "        ----------\n",
    "        slope : float, optional\n",
    "            Initial value of slope\n",
    "        intercept : float, optional\n",
    "            Initial value of intercept\n",
    "        \"\"\"\n",
    "\n",
    "        self.coef_ = np.zeros(1)\n",
    "        self.coef_[0] = slope\n",
    "        self.intercept_ = intercept\n",
    "        self.cost_ = 0.0\n",
    "        self.r2_score_ = -999999999.0\n",
    "        \n",
    "    def fit(self, xs, ys, nepochs=10, learnrate=0.01):\n",
    "        \"\"\"Computes slope and intercept of best fit line for points.\n",
    "\n",
    "        Parameters\n",
    "        ----------\n",
    "        xs : numpy array of shape (m,) floats where m is the number of points\n",
    "            The x coordinates of the points\n",
    "        ys : numpy array of shape (m,) floats\n",
    "            The y coordinates of the points\n",
    "        nepochs : int\n",
    "            Number of training epochs\n",
    "        learnrate : float\n",
    "            Learning rate\n",
    "\n",
    "        Action\n",
    "        Computes the slope and interecept of the best-fit line for a set of points\n",
    "        and put those into coef_[0][0] and intercept_ , respectively.\n",
    "        \"\"\"\n",
    "\n",
    "        # A couple checks on the parameters:\n",
    "        # The xs and ys must be the same length\n",
    "        assert(xs.shape == ys.shape)\n",
    "        # We need to run for at least 1 epoch\n",
    "        assert(nepochs > 0)\n",
    "\n",
    "        w = self.coef_[0]\n",
    "        b = self.intercept_\n",
    "\n",
    "        # We'll need the number of points a lot:\n",
    "        m = xs.size\n",
    "\n",
    "        # The mean of the y values will be used for evaluating the model.\n",
    "        y_mean = ys.mean()\n",
    "\n",
    "        sys.stderr.write('m: {}\\n'.format(m))\n",
    "        sys.stderr.write('y_mean: {}\\n'.format(y_mean))\n",
    "        sys.stderr.write('Initial w {}    b {}\\n'.format(w, b))\n",
    "        \n",
    "        # How often to print training stats.\n",
    "        training_stats_interval = 100\n",
    "        if nepochs < 210:\n",
    "            training_stats_interval = 10\n",
    "        elif nepochs > 40000:\n",
    "            training_stats_interval = 1000\n",
    "\n",
    "        t0 = time.perf_counter()\n",
    "\n",
    "        for epoch in range(nepochs):\n",
    "            # Compute cost J and gradients at each epoch\n",
    "\n",
    "            # Compute activation (or yhat) for x_i using current w and b.\n",
    "            A = w * xs + b\n",
    "            dz = (A - ys)\n",
    "            # Use mean squared error loss\n",
    "            J = (dz*dz).sum() / m\n",
    "            dw = np.asscalar(np.dot(xs, dz.T)) / m\n",
    "            db = np.sum(dz) / m\n",
    "\n",
    "            w -= learnrate * dw\n",
    "            b -= learnrate * db\n",
    "\n",
    "            if (epoch % training_stats_interval) == 0:\n",
    "                # sys.stderr.write('\\ndw: {}\\n'.format(dw))\n",
    "                # sys.stderr.write('db: {}\\n'.format(db))\n",
    "                sys.stderr.write('epoch: {:6d}\\tcost: {:10.6f}\\tw: {:8.4f}\\tb: {:8.4f}\\n'.format(epoch, J, w, b))\n",
    "\n",
    "        t1 = time.perf_counter()\n",
    "        sys.stderr.write('Train time: {0:10.4f} sec\\n'.format(t1 - t0))\n",
    "        \n",
    "        # Evaluations:\n",
    "        # Compute R^2 metric\n",
    "        null_model_v = (1.0/m) * ((ys - y_mean)**2).sum()\n",
    "\n",
    "        self.r2_score_ = 1.0 - (J / null_model_v)\n",
    "        self.coef_[0] = w\n",
    "        self.intercept_ = b\n",
    "        self.cost_ = J\n",
    "        return w, b"
   ]
  },
  {
   "cell_type": "markdown",
   "metadata": {},
   "source": [
    "## Run the linear regression model\n",
    "\n",
    "To run the linear regression model we defined above, we:\n",
    "* Set the values of variables we would have set via the command line.\n",
    "* Read the x, y points in from the points_filename\n",
    "* Build and run the linear regression model\n",
    "* Plot the points and the linear regression model line."
   ]
  },
  {
   "cell_type": "code",
   "execution_count": 5,
   "metadata": {},
   "outputs": [],
   "source": [
    "# Parameters for running the linear regression model\n",
    "examples_dir = '/Users/jay/github/ml-examples'\n",
    "data_dir = os.path.join(examples_dir, 'data')\n",
    "points_basename = 'linpoints50.txt'\n",
    "points_filename = os.path.join(data_dir, points_basename)\n",
    "\n",
    "plot_filename = '_regression.png'\n",
    "nepochs = 3001\n",
    "learnrate = 0.01\n"
   ]
  },
  {
   "cell_type": "code",
   "execution_count": 6,
   "metadata": {},
   "outputs": [
    {
     "name": "stdout",
     "output_type": "stream",
     "text": [
      "xs shape: (1, 50)\n",
      "ys shape: (1, 50)\n"
     ]
    }
   ],
   "source": [
    "# Read points\n",
    "xs, ys = read_points_file(points_filename)\n",
    "\n",
    "print('xs shape: {}'.format(xs.shape))\n",
    "print('ys shape: {}'.format(ys.shape))"
   ]
  },
  {
   "cell_type": "code",
   "execution_count": 7,
   "metadata": {},
   "outputs": [
    {
     "data": {
      "text/plain": [
       "array([[0. , 0.2, 0.4, 0.6, 0.8, 1. , 1.2, 1.4, 1.6, 1.8, 2. , 2.2, 2.4,\n",
       "        2.6, 2.8, 3. , 3.2, 3.4, 3.6, 3.8, 4. , 4.2, 4.4, 4.6, 4.8, 5. ,\n",
       "        5.2, 5.4, 5.6, 5.8, 6. , 6.2, 6.4, 6.6, 6.8, 7. , 7.2, 7.4, 7.6,\n",
       "        7.8, 8. , 8.2, 8.4, 8.6, 8.8, 9. , 9.2, 9.4, 9.6, 9.8]])"
      ]
     },
     "execution_count": 7,
     "metadata": {},
     "output_type": "execute_result"
    }
   ],
   "source": [
    "xs"
   ]
  },
  {
   "cell_type": "code",
   "execution_count": 8,
   "metadata": {},
   "outputs": [
    {
     "data": {
      "text/plain": [
       "array([[1.83056902, 2.23812325, 1.49756468, 1.61105334, 3.36954988,\n",
       "        2.52991594, 1.85358639, 2.82712291, 3.29429889, 2.38561304,\n",
       "        2.6999882 , 3.6825839 , 2.31836158, 2.36928074, 3.97458022,\n",
       "        4.49206819, 3.28087962, 3.6981885 , 3.04548421, 2.93917345,\n",
       "        4.6205305 , 4.81683152, 4.23010592, 4.33062231, 3.97880089,\n",
       "        3.56622844, 3.966293  , 5.42226409, 4.37004455, 5.05126997,\n",
       "        4.29740133, 5.53255125, 5.22384307, 5.44524551, 5.81744751,\n",
       "        4.94776703, 5.20372972, 5.37910156, 5.8652039 , 6.08466062,\n",
       "        5.3799572 , 5.39944029, 5.92325333, 6.57691974, 5.96654933,\n",
       "        5.71632606, 7.46726586, 7.63447734, 7.47657535, 6.34280503]])"
      ]
     },
     "execution_count": 8,
     "metadata": {},
     "output_type": "execute_result"
    }
   ],
   "source": [
    "ys"
   ]
  },
  {
   "cell_type": "markdown",
   "metadata": {},
   "source": [
    "### Compute the best fit linear regression model"
   ]
  },
  {
   "cell_type": "markdown",
   "metadata": {},
   "source": [
    "For the example set of points shown below, the best-fit line computed using the usual formula has parameters:<br>\n",
    "$slope = 0.511$<br>\n",
    "$intercept = 1.856$"
   ]
  },
  {
   "cell_type": "code",
   "execution_count": 9,
   "metadata": {},
   "outputs": [
    {
     "name": "stdout",
     "output_type": "stream",
     "text": [
      "Best fit model: cost 0.3269400493598352\tslope: 0.5109415572357526\tb: 1.855600284990892\n",
      "R^2 score: 0.8692482951090565\n"
     ]
    },
    {
     "name": "stderr",
     "output_type": "stream",
     "text": [
      "m: 50\n",
      "y_mean: 4.3594299638116\n",
      "Initial w 0.1    b 0.1\n",
      "<ipython-input-4-3f24dc2351fa>:86: DeprecationWarning: np.asscalar(a) is deprecated since NumPy v1.16, use a.item() instead\n",
      "  dw = np.asscalar(np.dot(xs, dz.T)) / m\n",
      "epoch:      0\tcost:  15.941357\tw:   0.3189\tb:   0.1377\n",
      "epoch:    100\tcost:   0.753228\tw:   0.7067\tb:   0.5733\n",
      "epoch:    200\tcost:   0.584429\tw:   0.6631\tb:   0.8592\n",
      "epoch:    300\tcost:   0.482470\tw:   0.6292\tb:   1.0814\n",
      "epoch:    400\tcost:   0.420884\tw:   0.6028\tb:   1.2541\n",
      "epoch:    500\tcost:   0.383685\tw:   0.5823\tb:   1.3883\n",
      "epoch:    600\tcost:   0.361215\tw:   0.5664\tb:   1.4926\n",
      "epoch:    700\tcost:   0.347643\tw:   0.5540\tb:   1.5737\n",
      "epoch:    800\tcost:   0.339445\tw:   0.5444\tb:   1.6367\n",
      "epoch:    900\tcost:   0.334493\tw:   0.5369\tb:   1.6857\n",
      "epoch:   1000\tcost:   0.331502\tw:   0.5311\tb:   1.7237\n",
      "epoch:   1100\tcost:   0.329696\tw:   0.5266\tb:   1.7533\n",
      "epoch:   1200\tcost:   0.328604\tw:   0.5231\tb:   1.7763\n",
      "epoch:   1300\tcost:   0.327945\tw:   0.5203\tb:   1.7941\n",
      "epoch:   1400\tcost:   0.327547\tw:   0.5182\tb:   1.8080\n",
      "epoch:   1500\tcost:   0.327307\tw:   0.5166\tb:   1.8188\n",
      "epoch:   1600\tcost:   0.327161\tw:   0.5153\tb:   1.8272\n",
      "epoch:   1700\tcost:   0.327074\tw:   0.5143\tb:   1.8337\n",
      "epoch:   1800\tcost:   0.327021\tw:   0.5135\tb:   1.8388\n",
      "epoch:   1900\tcost:   0.326989\tw:   0.5129\tb:   1.8427\n",
      "epoch:   2000\tcost:   0.326969\tw:   0.5124\tb:   1.8458\n",
      "epoch:   2100\tcost:   0.326958\tw:   0.5121\tb:   1.8482\n",
      "epoch:   2200\tcost:   0.326951\tw:   0.5118\tb:   1.8500\n",
      "epoch:   2300\tcost:   0.326946\tw:   0.5116\tb:   1.8514\n",
      "epoch:   2400\tcost:   0.326944\tw:   0.5114\tb:   1.8526\n",
      "epoch:   2500\tcost:   0.326942\tw:   0.5113\tb:   1.8534\n",
      "epoch:   2600\tcost:   0.326941\tw:   0.5112\tb:   1.8541\n",
      "epoch:   2700\tcost:   0.326941\tw:   0.5111\tb:   1.8546\n",
      "epoch:   2800\tcost:   0.326940\tw:   0.5110\tb:   1.8550\n",
      "epoch:   2900\tcost:   0.326940\tw:   0.5110\tb:   1.8554\n",
      "epoch:   3000\tcost:   0.326940\tw:   0.5109\tb:   1.8556\n",
      "Train time:     0.0804 sec\n"
     ]
    }
   ],
   "source": [
    "linregmodel = LinearRegressionModelVectorized(slope=0.1, intercept=0.1)\n",
    "slope, b = linregmodel.fit(xs, ys, nepochs=nepochs, learnrate=learnrate)\n",
    "print('Best fit model: cost {}\\tslope: {}\\tb: {}'.format(linregmodel.cost_, slope, b))\n",
    "print('R^2 score: {}'.format(linregmodel.r2_score_))"
   ]
  },
  {
   "cell_type": "code",
   "execution_count": 14,
   "metadata": {},
   "outputs": [
    {
     "data": {
      "image/png": "[encoded data removed]",
      "text/plain": [
       "<Figure size 432x288 with 1 Axes>"
      ]
     },
     "metadata": {
      "needs_background": "light"
     },
     "output_type": "display_data"
    }
   ],
   "source": [
    "# Plot the points and the best-fit line\n",
    "\n",
    "# Build two points to plot the best-fit line\n",
    "xmin = xs.min()\n",
    "xmax = xs.max()\n",
    "\n",
    "x_fit = np.array([xmin, xmax])\n",
    "y_fit = slope * x_fit + b\n",
    "\n",
    "# Plot the points and line:\n",
    "plt.figure()\n",
    "plt.xlabel('x')\n",
    "plt.ylabel('y')\n",
    "plt.title('Gradient Descent Linear Regression Example')\n",
    "plt.plot(xs[0], ys[0], 'bo', label='point cloud')\n",
    "plt.plot(x_fit, y_fit, 'r-', label='best fit line')\n",
    "plt.axis('equal')\n",
    "plt.grid()\n",
    "plt.legend()\n",
    "plt.show()\n"
   ]
  },
  {
   "cell_type": "code",
   "execution_count": null,
   "metadata": {},
   "outputs": [],
   "source": []
  }
 ],
 "metadata": {
  "kernelspec": {
   "display_name": "Python 3 (ipykernel)",
   "language": "python",
   "name": "python3"
  },
  "language_info": {
   "codemirror_mode": {
    "name": "ipython",
    "version": 3
   },
   "file_extension": ".py",
   "mimetype": "text/x-python",
   "name": "python",
   "nbconvert_exporter": "python",
   "pygments_lexer": "ipython3",
   "version": "3.9.13"
  }
 },
 "nbformat": 4,
 "nbformat_minor": 2
}
