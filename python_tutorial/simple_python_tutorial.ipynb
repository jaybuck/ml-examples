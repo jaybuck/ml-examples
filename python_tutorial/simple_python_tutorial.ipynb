{
 "cells": [
  {
   "cell_type": "markdown",
   "metadata": {},
   "source": [
    "# Simple Python Tutorial"
   ]
  },
  {
   "cell_type": "markdown",
   "metadata": {},
   "source": [
    "This script shows examples of key Python constructs. It shows enough so that a software engineer not familiar\n",
    "with Python can follow along when someone is explaining what a Python program does.\n",
    "It covers:\n",
    "- Variables:\n",
    "  - ints, float, strings\n",
    "  - operations on these\n",
    "- Collections:\n",
    "  - lists, tuples, dictionaries\n",
    "  - how to manipulate these\n",
    "- Control flow\n",
    "  - if/elif/else\n",
    "  - for loops\n",
    "  - list comprehension\n",
    "- Functions\n",
    "- Classes\n",
    "- Numpy\n",
    "- Pandas\n",
    "- Plotting via \n",
    "  - matplotlib\n",
    "  - Seaborn\n"
   ]
  },
  {
   "cell_type": "code",
   "execution_count": null,
   "metadata": {},
   "outputs": [],
   "source": [
    "%matplotlib inline\n",
    "\n",
    "import sys\n",
    "import os\n",
    "import math\n",
    "\n",
    "import numpy as np\n",
    "import pandas as pd\n",
    "import matplotlib.pyplot as plt\n",
    "import seaborn as sns"
   ]
  },
  {
   "cell_type": "markdown",
   "metadata": {},
   "source": [
    "## Key Python data types"
   ]
  },
  {
   "cell_type": "markdown",
   "metadata": {},
   "source": [
    "### int"
   ]
  },
  {
   "cell_type": "code",
   "execution_count": null,
   "metadata": {},
   "outputs": [],
   "source": [
    "a = 2\n",
    "b = 5\n",
    "\n",
    "print('a:', a, '    type(a):', type(a))\n",
    "print('b:', b, '    type(b):', type(b))\n",
    "\n",
    "print('a + b:', a + b)\n",
    "print('a * b:', a * b)\n",
    "print('b / a:', b / a)\n",
    "print('b // a:', b // a)\n",
    "print('b % a:', b % a)\n",
    "print('a**3:', a**3)\n",
    "print('a**3.1:', a**3.1)\n"
   ]
  },
  {
   "cell_type": "markdown",
   "metadata": {},
   "source": [
    "### float"
   ]
  },
  {
   "cell_type": "code",
   "execution_count": null,
   "metadata": {},
   "outputs": [],
   "source": [
    "c = 1.2\n",
    "d = 2.3\n",
    "\n",
    "print('c:', c, '    type(c):', type(c))\n",
    "print('d:', d, '    type(d):', type(d))\n",
    "\n",
    "print('c + d:', c + d)\n",
    "print('c * d:', c * d)\n",
    "print('d / c:', d / c)\n",
    "print('c**2:', c**2)"
   ]
  },
  {
   "cell_type": "markdown",
   "metadata": {},
   "source": [
    "### string"
   ]
  },
  {
   "cell_type": "code",
   "execution_count": null,
   "metadata": {},
   "outputs": [],
   "source": [
    "s1 = 'hi'\n",
    "s2 = 'there'\n",
    "\n",
    "print('s1:', s1)\n",
    "print('s2:', s2)\n",
    "print('s1 + s2:', s1 + s2)\n"
   ]
  },
  {
   "cell_type": "markdown",
   "metadata": {},
   "source": [
    "#### string formatting"
   ]
  },
  {
   "cell_type": "markdown",
   "metadata": {},
   "source": [
    "Using printf-like % formatting"
   ]
  },
  {
   "cell_type": "code",
   "execution_count": null,
   "metadata": {},
   "outputs": [],
   "source": [
    "print('%s %s' % (s1, s2))\n"
   ]
  },
  {
   "cell_type": "markdown",
   "metadata": {},
   "source": [
    "#### Using string member function: format()"
   ]
  },
  {
   "cell_type": "code",
   "execution_count": null,
   "metadata": {},
   "outputs": [],
   "source": [
    "print('{} {} and a floating point example: {:5.3f}'.format(s1, s2, d/c))\n"
   ]
  },
  {
   "cell_type": "markdown",
   "metadata": {},
   "source": [
    "We will use these string formatting techniques extensively."
   ]
  },
  {
   "cell_type": "markdown",
   "metadata": {},
   "source": [
    "#### string indexing"
   ]
  },
  {
   "cell_type": "markdown",
   "metadata": {},
   "source": [
    "To start, a string has a length which you can get using the len() function:"
   ]
  },
  {
   "cell_type": "code",
   "execution_count": null,
   "metadata": {},
   "outputs": [],
   "source": [
    "print('len(s1): %d\\tlen(s2): %d' % (len(s1), len(s2)))\n"
   ]
  },
  {
   "cell_type": "markdown",
   "metadata": {},
   "source": [
    "String elements are indexed starting at zero. The last character in the string has index len(str)-1"
   ]
  },
  {
   "cell_type": "code",
   "execution_count": null,
   "metadata": {},
   "outputs": [],
   "source": [
    "print('s2: {}'.format(s2))\n",
    "print('s2[1:3]\\tgives: {}'.format(s2[1:3]))\n",
    "print('s2[:3]\\tgives: {}'.format(s2[:3]))\n",
    "print('s2[3:]\\tgives: {}'.format(s2[3:]))\n"
   ]
  },
  {
   "cell_type": "markdown",
   "metadata": {},
   "source": [
    "### None type"
   ]
  },
  {
   "cell_type": "markdown",
   "metadata": {},
   "source": [
    "Like most programming languages, Python has the equivalent of a null type. The name of the null value is None . It is often used as the initial value of a member variable in the __init()__ function of class."
   ]
  },
  {
   "cell_type": "code",
   "execution_count": null,
   "metadata": {},
   "outputs": [],
   "source": [
    "a = None\n",
    "print('a: {}\\ttype(a): {}'.format(a, type(a)))\n"
   ]
  },
  {
   "cell_type": "markdown",
   "metadata": {},
   "source": [
    "### Variables are dynamically-typed"
   ]
  },
  {
   "cell_type": "markdown",
   "metadata": {},
   "source": [
    "We have used the type() function to view the type of the value that is assigned to a variable. In Python, any particular data item has a type. And variables take the type of the value that is assigned to them. This is very different from C or Java where you declare the type of variable and it can then only hold data of that type. (Well, there is more wiggle room in C.) \n",
    "\n",
    "For example, the same variable can take values of different types at different times. Not surprisingly, this is all done with pointers.\n"
   ]
  },
  {
   "cell_type": "code",
   "execution_count": null,
   "metadata": {},
   "outputs": [],
   "source": [
    "# Example using variable a :\n",
    "a = 2\n",
    "print('a: {}\\ttype(a): {}'.format(a, type(a)))\n",
    "\n",
    "a = 1.23\n",
    "print('\\na: {}\\ttype(a): {}'.format(a, type(a)))\n",
    "\n",
    "a = 'my string'\n",
    "print('\\na: {}\\ttype(a): {}\\n'.format(a, type(a)))\n",
    "\n"
   ]
  },
  {
   "cell_type": "markdown",
   "metadata": {},
   "source": [
    "## Python collection data types"
   ]
  },
  {
   "cell_type": "markdown",
   "metadata": {},
   "source": [
    "### list"
   ]
  },
  {
   "cell_type": "markdown",
   "metadata": {},
   "source": [
    "The list is the primary collection data type in Python. A list can contain elements that have different data types. Python lists are mutable which makes them extremely useful. Much like Lisp lists."
   ]
  },
  {
   "cell_type": "code",
   "execution_count": null,
   "metadata": {},
   "outputs": [],
   "source": [
    "# The empty list\n",
    "mylist0 = []\n",
    "\n",
    "# A list with one element\n",
    "mylist1 = ['hi']\n",
    "\n",
    "# A list with two elements\n",
    "mylist2 = [3, 'abc']\n",
    "\n",
    "print('mylist2: {}\\ttype(mylist2): {}'.format(mylist2, type(mylist2)))\n"
   ]
  },
  {
   "cell_type": "markdown",
   "metadata": {},
   "source": [
    "#### Simple list building operations"
   ]
  },
  {
   "cell_type": "code",
   "execution_count": null,
   "metadata": {},
   "outputs": [],
   "source": [
    "# Append\n",
    "mylist0 = []\n",
    "print('mylist0: {}'.format(mylist0))\n",
    "mylist0.append(1)\n",
    "print('mylist0: {}'.format(mylist0))\n",
    "mylist0.append('yo')\n",
    "print('mylist0: {}'.format(mylist0))\n"
   ]
  },
  {
   "cell_type": "code",
   "execution_count": null,
   "metadata": {},
   "outputs": [],
   "source": [
    "# Concatenate lists\n",
    "mylist3 = mylist0 + mylist2\n",
    "print('mylist3: {}'.format(mylist3))"
   ]
  },
  {
   "cell_type": "code",
   "execution_count": null,
   "metadata": {},
   "outputs": [],
   "source": [
    "# Repeat lists\n",
    "mylist4 = mylist0 * 3\n",
    "print('mylist4: {}'.format(mylist4))"
   ]
  },
  {
   "cell_type": "markdown",
   "metadata": {},
   "source": [
    "#### Remove element from a list"
   ]
  },
  {
   "cell_type": "code",
   "execution_count": null,
   "metadata": {},
   "outputs": [],
   "source": [
    "# Remove element at a particular index:\n",
    "del mylist3[1]\n",
    "mylist3"
   ]
  },
  {
   "cell_type": "code",
   "execution_count": null,
   "metadata": {},
   "outputs": [],
   "source": [
    "# Remove element at a particular index and return it:\n",
    "mylist3 = ['one', 'more', 'quick', 'example']\n",
    "mylist3.pop(2)"
   ]
  },
  {
   "cell_type": "code",
   "execution_count": null,
   "metadata": {},
   "outputs": [],
   "source": [
    "mylist3"
   ]
  },
  {
   "cell_type": "code",
   "execution_count": null,
   "metadata": {},
   "outputs": [],
   "source": [
    "# Remove element that has a particular value:\n",
    "mylist3.remove('more')\n",
    "mylist3\n"
   ]
  },
  {
   "cell_type": "markdown",
   "metadata": {},
   "source": [
    "#### Some simple list functions"
   ]
  },
  {
   "cell_type": "code",
   "execution_count": null,
   "metadata": {},
   "outputs": [],
   "source": [
    "# Reverse a list\n",
    "# Note: this modifies the list!\n",
    "\n",
    "mylist4.reverse()\n",
    "print('mylist4: {}'.format(mylist4))\n"
   ]
  },
  {
   "cell_type": "code",
   "execution_count": null,
   "metadata": {},
   "outputs": [],
   "source": [
    "# Sort a list\n",
    "# Note: this modifies the list!\n",
    "\n",
    "mylist5 = ['this', 'is', 'a', 'list']\n",
    "mylist5.sort()\n",
    "print('mylist5: {}'.format(mylist5))\n"
   ]
  },
  {
   "cell_type": "markdown",
   "metadata": {},
   "source": [
    "#### list indexing and slicing"
   ]
  },
  {
   "cell_type": "markdown",
   "metadata": {},
   "source": [
    "Like strings, you can get individual elements of a list or sublists via indexing and slicing.\n",
    "It turns out that both lists and strings are iterable objects, and indexing and slicing work pretty\n",
    "much the same on all iterables.\n",
    "\n",
    "To start, we use the len(list) function to get the length of a list:"
   ]
  },
  {
   "cell_type": "code",
   "execution_count": null,
   "metadata": {},
   "outputs": [],
   "source": [
    "print('len(mylist4): %d\\tlen(mylist5): %d' % (len(mylist4), len(mylist5)))"
   ]
  },
  {
   "cell_type": "markdown",
   "metadata": {},
   "source": [
    "#### list indexing"
   ]
  },
  {
   "cell_type": "markdown",
   "metadata": {},
   "source": [
    "Negative index numbers count backward from the *end* of the list."
   ]
  },
  {
   "cell_type": "code",
   "execution_count": null,
   "metadata": {},
   "outputs": [],
   "source": [
    "mylist6 = ['zero', 'one', 'two', 'three', 'four', 'five']\n",
    "print('mylist6\\t\\t{}'.format(mylist6))\n",
    "print('mylist6[0]\\t{}\\nmylist6[1]\\t{}\\nmylist6[-1]\\t{}'.format(mylist6[0] ,mylist6[1], mylist6[-1]))"
   ]
  },
  {
   "cell_type": "markdown",
   "metadata": {},
   "source": [
    "#### list slicing"
   ]
  },
  {
   "cell_type": "code",
   "execution_count": null,
   "metadata": {},
   "outputs": [],
   "source": [
    "mylist6 = ['zero', 'one', 'two', 'three', 'four', 'five']\n",
    "print('mylist6\\t\\t{}'.format(mylist6))\n",
    "print('mylist6[1:3]\\t{}\\nmylist6[:3]\\t{}\\nmylist6[2:]\\t{}'.format(mylist6[1:3] ,mylist6[:3], mylist6[2:]))"
   ]
  },
  {
   "cell_type": "markdown",
   "metadata": {},
   "source": [
    "#### Changing list elements"
   ]
  },
  {
   "cell_type": "code",
   "execution_count": null,
   "metadata": {},
   "outputs": [],
   "source": [
    "mylist6[1] = 1\n",
    "mylist6"
   ]
  },
  {
   "cell_type": "markdown",
   "metadata": {},
   "source": [
    "#### List variables are pointers to the actual list\n",
    "\n",
    "So when you assign one list to another and make changes, you change both."
   ]
  },
  {
   "cell_type": "code",
   "execution_count": null,
   "metadata": {},
   "outputs": [],
   "source": [
    "mylist7 = mylist6\n",
    "mylist7"
   ]
  },
  {
   "cell_type": "code",
   "execution_count": null,
   "metadata": {},
   "outputs": [],
   "source": [
    "mylist7[2] = 2.01\n",
    "mylist6"
   ]
  },
  {
   "cell_type": "markdown",
   "metadata": {},
   "source": [
    "### tuples"
   ]
  },
  {
   "cell_type": "markdown",
   "metadata": {},
   "source": [
    "tuples are basically immutable lists. They are often used as the return values of functions."
   ]
  },
  {
   "cell_type": "code",
   "execution_count": null,
   "metadata": {},
   "outputs": [],
   "source": [
    "# The empty tuple\n",
    "mytuple0 = ()\n",
    "print('mytuple0: {}\\tlength: {}\\ttype: {}'.format(mytuple0, len(mytuple0), type(mytuple0)))"
   ]
  },
  {
   "cell_type": "code",
   "execution_count": null,
   "metadata": {},
   "outputs": [],
   "source": [
    "# Tuple with two elements. Very common.\n",
    "mytuple2 = (1, 'two')\n",
    "print('mytuple2: {}\\tlength: {}\\ttype: {}'.format(mytuple2, len(mytuple2), type(mytuple2)))"
   ]
  },
  {
   "cell_type": "markdown",
   "metadata": {},
   "source": [
    "#### Tuple indexing and slicing works as with any other iterable:"
   ]
  },
  {
   "cell_type": "code",
   "execution_count": null,
   "metadata": {},
   "outputs": [],
   "source": [
    "mytuple2[1]"
   ]
  },
  {
   "cell_type": "markdown",
   "metadata": {},
   "source": [
    "#### Cannot change a tuple"
   ]
  },
  {
   "cell_type": "code",
   "execution_count": null,
   "metadata": {},
   "outputs": [],
   "source": [
    "mytuple2[1] = 'hello'"
   ]
  },
  {
   "cell_type": "markdown",
   "metadata": {},
   "source": [
    "### Dictionaries"
   ]
  },
  {
   "cell_type": "markdown",
   "metadata": {},
   "source": [
    "Python has hash tables called dictionaries. Like all hash tables, the are a collection of key - value pairs. They are used extensively."
   ]
  },
  {
   "cell_type": "markdown",
   "metadata": {},
   "source": [
    "#### Creating dictionaries"
   ]
  },
  {
   "cell_type": "code",
   "execution_count": null,
   "metadata": {},
   "outputs": [],
   "source": [
    "# Empty dictionary\n",
    "d0 = {}\n",
    "print('d0: {}\\tlength: {}\\ttype: {}'.format(d0, len(d0), type(d0)))"
   ]
  },
  {
   "cell_type": "code",
   "execution_count": null,
   "metadata": {},
   "outputs": [],
   "source": [
    "# A dictionary with two key - value pairs:\n",
    "d2 = {'a': 1.1, 'bbb': 'b-string'}\n",
    "print('d2: {}\\tlength: {}\\ttype: {}'.format(d2, len(d2), type(d2)))"
   ]
  },
  {
   "cell_type": "code",
   "execution_count": null,
   "metadata": {},
   "outputs": [],
   "source": [
    "# Build a dictionary with the dict() contructor:\n",
    "keyvals = [('one', 1), ('two', 2), ('three', 3), ('four', 4)]\n",
    "d4 = dict(keyvals)\n",
    "d4"
   ]
  },
  {
   "cell_type": "markdown",
   "metadata": {},
   "source": [
    "####  Access element using key"
   ]
  },
  {
   "cell_type": "code",
   "execution_count": null,
   "metadata": {},
   "outputs": [],
   "source": [
    "d2['a']"
   ]
  },
  {
   "cell_type": "markdown",
   "metadata": {},
   "source": [
    "#### Building dictionaries"
   ]
  },
  {
   "cell_type": "code",
   "execution_count": null,
   "metadata": {},
   "outputs": [],
   "source": [
    "# Add an element using a key:\n",
    "d0['abc'] = 123\n",
    "d0"
   ]
  },
  {
   "cell_type": "code",
   "execution_count": null,
   "metadata": {},
   "outputs": [],
   "source": [
    "# Update a dictionary by adding in the elements of another dictionary:\n",
    "d0.update(d2)\n",
    "d0"
   ]
  },
  {
   "cell_type": "markdown",
   "metadata": {},
   "source": [
    "#### Deleting an element from a dictionary"
   ]
  },
  {
   "cell_type": "code",
   "execution_count": null,
   "metadata": {},
   "outputs": [],
   "source": [
    "del d0['a']\n",
    "d0"
   ]
  },
  {
   "cell_type": "markdown",
   "metadata": {},
   "source": [
    "## Control Flow"
   ]
  },
  {
   "cell_type": "markdown",
   "metadata": {},
   "source": [
    "In this section we show examples of control flow in Python, in particular:\n",
    "- if/elif/else\n",
    "- for loops\n",
    "\n",
    "Note that the scope of the statements within the if / elif / else clauses or within a for loop is delimited by indentation instead of curly braces as in most C-style languages. Software teams tend to standardize on indenting either 2 or 4 spaces."
   ]
  },
  {
   "cell_type": "markdown",
   "metadata": {},
   "source": [
    "### if/elif/else"
   ]
  },
  {
   "cell_type": "code",
   "execution_count": null,
   "metadata": {},
   "outputs": [],
   "source": [
    "# Just a simple if... else... example\n",
    "a = 2\n",
    "if a > 3:\n",
    "    print('a is greater than 3')\n",
    "else:\n",
    "    print('a is not greater than 3')\n",
    "    "
   ]
  },
  {
   "cell_type": "code",
   "execution_count": null,
   "metadata": {},
   "outputs": [],
   "source": [
    "# Adding an elif clause:\n",
    "a = 2\n",
    "if a > 3:\n",
    "    print('a is greater than 3')\n",
    "elif a == 2:\n",
    "    print('a equals 2')\n",
    "else:\n",
    "    print('a is not greater than 3 and is not 2')\n"
   ]
  },
  {
   "cell_type": "markdown",
   "metadata": {},
   "source": [
    "### for loops"
   ]
  },
  {
   "cell_type": "markdown",
   "metadata": {},
   "source": [
    "for loops work much like you're used to in other languages. The loop iterates over the values in a collection. And like many modern languages, we are using them much less than we used to due to iterator operations that operate on entire collections at once."
   ]
  },
  {
   "cell_type": "code",
   "execution_count": null,
   "metadata": {},
   "outputs": [],
   "source": [
    "# We don't have to just iterate over numbers:\n",
    "for e in ['a', 2.2, 3, 'bbb']:\n",
    "    print(e)"
   ]
  },
  {
   "cell_type": "code",
   "execution_count": null,
   "metadata": {},
   "outputs": [],
   "source": [
    "# We can still iterate over a numeric sequence like we did in C:\n",
    "for i in range(10):\n",
    "    print(i)"
   ]
  },
  {
   "cell_type": "code",
   "execution_count": null,
   "metadata": {},
   "outputs": [],
   "source": [
    "# Use the break command to break out of a loop\n",
    "for i in range(10):\n",
    "    print(i)\n",
    "    if i >= 5:\n",
    "        print('break at i == 5')\n",
    "        break\n",
    "print('done with for loop')"
   ]
  },
  {
   "cell_type": "code",
   "execution_count": null,
   "metadata": {},
   "outputs": [],
   "source": [
    "# We can iterate over lists:\n",
    "for e in mylist6:\n",
    "    print(e)"
   ]
  },
  {
   "cell_type": "code",
   "execution_count": null,
   "metadata": {},
   "outputs": [],
   "source": [
    "# We can build dictionaries by iterating over lists of key-value tuples.\n",
    "# (Of course there's a dict() constructor for this.)\n",
    "d0 = {}\n",
    "keyvals = [('one', 1), ('two', 2), ('three', 3), ('four', 4)]\n",
    "for keyval in keyvals:\n",
    "    d0[keyval[0]] = keyval[1]\n",
    "\n",
    "d0"
   ]
  },
  {
   "cell_type": "code",
   "execution_count": null,
   "metadata": {},
   "outputs": [],
   "source": [
    "# Or:\n",
    "d0 = {}\n",
    "keyvals = [('one', 1), ('two', 2), ('three', 3), ('four', 4)]\n",
    "for k, v in keyvals:\n",
    "    print('k: {}\\tv: {}'.format(k, v))\n",
    "    d0[k] = v\n",
    "    \n",
    "d0"
   ]
  },
  {
   "cell_type": "code",
   "execution_count": null,
   "metadata": {},
   "outputs": [],
   "source": [
    "# We can iterate across a dictionary:\n",
    "keys = d0.keys()\n",
    "for k in keys:\n",
    "    print('key: {}\\tvalue: {}'.format(k, d0[k]))"
   ]
  },
  {
   "cell_type": "code",
   "execution_count": null,
   "metadata": {},
   "outputs": [],
   "source": [
    "# Better: use the items() member function to get all the key-value pairs.\n",
    "for k, v in d0.items():\n",
    "    print('key: {}\\tvalue: {}'.format(k, v))"
   ]
  },
  {
   "cell_type": "markdown",
   "metadata": {},
   "source": [
    "## Iterators"
   ]
  },
  {
   "cell_type": "markdown",
   "metadata": {},
   "source": [
    "To be able to do all of the for loops above, we need to be able to iterate across the elements of a collection. Collections that enable this in Python are ones that implement its iterator protocol. This basically means that the class has a \\__next__ method. The class keeps track of the current state of the iterable collection and returns the next item when you call next() on it. Examples of collection classes that implement the iterator protocol are list, tuple, and dictionary. We will see more later."
   ]
  },
  {
   "cell_type": "markdown",
   "metadata": {},
   "source": [
    "### List comprehensions"
   ]
  },
  {
   "cell_type": "markdown",
   "metadata": {},
   "source": [
    "Python has a syntax called __list comprehension__ for doing some operation on every element of a list and returning a new list with the result. It is used where you would use __map()__ in other languages. This is very commonly used."
   ]
  },
  {
   "cell_type": "code",
   "execution_count": null,
   "metadata": {},
   "outputs": [],
   "source": [
    "# Example: double every element of a list:\n",
    "mylist8 = list(range(5))\n",
    "mylist8"
   ]
  },
  {
   "cell_type": "code",
   "execution_count": null,
   "metadata": {},
   "outputs": [],
   "source": [
    "# The list comprehension to double each element:\n",
    "[2*x for x in mylist8]"
   ]
  },
  {
   "cell_type": "markdown",
   "metadata": {},
   "source": [
    "## Python functions"
   ]
  },
  {
   "cell_type": "markdown",
   "metadata": {},
   "source": [
    "Like any other programming language, Python has functions. Here's an example of how to define one for the simple example of doubling a number:"
   ]
  },
  {
   "cell_type": "code",
   "execution_count": null,
   "metadata": {},
   "outputs": [],
   "source": [
    "def my_double(x):\n",
    "    return 2 * x"
   ]
  },
  {
   "cell_type": "code",
   "execution_count": null,
   "metadata": {},
   "outputs": [],
   "source": [
    "# To call this function:\n",
    "a = 2\n",
    "a2 = my_double(a)\n",
    "a2"
   ]
  },
  {
   "cell_type": "markdown",
   "metadata": {},
   "source": [
    "Python functions can have optional named parameters with default values:"
   ]
  },
  {
   "cell_type": "code",
   "execution_count": null,
   "metadata": {},
   "outputs": [],
   "source": [
    "def my_multiplier(x, multiplier=2):\n",
    "    return multiplier * x"
   ]
  },
  {
   "cell_type": "code",
   "execution_count": null,
   "metadata": {},
   "outputs": [],
   "source": [
    "a3 = my_multiplier(a, 3)\n",
    "a3"
   ]
  },
  {
   "cell_type": "markdown",
   "metadata": {},
   "source": [
    "## Python Classes"
   ]
  },
  {
   "cell_type": "markdown",
   "metadata": {},
   "source": [
    "And like many programming languages, Python has classes. Here's an example of a class that implements simple summary statistics on a list of numbers.  NB: The computations become much easier once we start using numpy."
   ]
  },
  {
   "cell_type": "code",
   "execution_count": null,
   "metadata": {},
   "outputs": [],
   "source": [
    "class MyStatsInefficient:\n",
    "    \"\"\"\n",
    "    Compute summary statistics for a list of numbers.\n",
    "    \n",
    "    NB: The code is written to demonstrate a simple example of classes.\n",
    "    If we expanded on this example we would do it properly using properties for the individual statistics.\n",
    "    \"\"\"\n",
    "    def __init__(self, xs=[0.0, 1.0, 2.0]):\n",
    "        self.xs = xs\n",
    "        self.x_count = len(xs)\n",
    "        self.mean = None\n",
    "        self.variance = None\n",
    "        self.stddev = None\n",
    "        \n",
    "    def calc_mean(self):\n",
    "        sum = 0.0\n",
    "        for x in self.xs:\n",
    "            sum += x\n",
    "        self.mean = sum / self.x_count\n",
    "        return self.mean\n",
    "        \n",
    "    def calc_var(self):\n",
    "        mu = self.calc_mean()\n",
    "        sum2 = 0.0\n",
    "        for x in self.xs:\n",
    "            sum2 += x * x\n",
    "        self.variance = (sum2 / self.x_count) - mu * mu\n",
    "        return self.variance\n",
    "    \n",
    "    def calc_stddev(self):\n",
    "        variance = self.calc_var()\n",
    "        self.stddev = math.sqrt(variance)\n",
    "        return self.stddev\n",
    "        \n",
    "    def summary_stats(self):\n",
    "        stddev = self.calc_stddev()\n",
    "        return (self.x_count, self.mean, self.variance, self.stddev)\n",
    "        "
   ]
  },
  {
   "cell_type": "code",
   "execution_count": null,
   "metadata": {},
   "outputs": [],
   "source": [
    "# Simple example of using the MyStatsInefficient class:\n",
    "xlist = [1.0, 2.0, 2.0, 3.0]\n",
    "#xlist = [1.0, 1.5, 1.8, 2.0, 2.0, 2.2, 2.5, 3.0]\n",
    "#xlist = [1.0, 1.5, 1.8, 1.9, 1.99, 2.0, 2.0, 2.01, 2.1, 2.2, 2.5, 3.0]\n",
    "\n",
    "mystat1 = MyStatsInefficient(xlist)\n",
    "\n",
    "count, mu, variance, stddev = mystat1.summary_stats()\n",
    "\n",
    "print('count: {}\\tmean: {:0.4f}\\tvariance: {:0.4f}\\tstddev: {:0.4f}'.format(count, mu, variance, stddev))"
   ]
  },
  {
   "cell_type": "markdown",
   "metadata": {},
   "source": [
    "There are a number of ways to improve this class. First, if we were using numpy which we introduce below you'd already have these summary statistics built in. But more importantly for this brief introduction to Python classes, you can implement the statistical functions as properties so they are more seamless to use."
   ]
  },
  {
   "cell_type": "code",
   "execution_count": null,
   "metadata": {},
   "outputs": [],
   "source": [
    "class MyStatsUsingProperties:\n",
    "    \"\"\"\n",
    "    Compute summary statistics for a list of numbers.\n",
    "    \n",
    "    NB: The code is written to demonstrate a simple example of classes using\n",
    "    Python properties for the individual statistics.\n",
    "    \"\"\"\n",
    "    def __init__(self, xs=[0.0, 1.0, 2.0]):\n",
    "        self.xs = xs\n",
    "        self.x_count = len(xs)\n",
    "        \n",
    "        # Compute mean\n",
    "        sum = 0.0\n",
    "        for x in xlist:\n",
    "            sum += x\n",
    "        self._mean = sum / self.x_count\n",
    "        \n",
    "        # Compute variance\n",
    "        sum2 = 0.0\n",
    "        for x in xlist:\n",
    "            sum2 += x * x\n",
    "        self._variance = (sum2 / self.x_count) - self._mean * self._mean\n",
    "\n",
    "        self._stddev = math.sqrt(self._variance)\n",
    "        \n",
    "    @property\n",
    "    def mean(self):\n",
    "        return self._mean\n",
    "        \n",
    "    @property\n",
    "    def variance(self):\n",
    "        return self._variance\n",
    "\n",
    "    @property\n",
    "    def stddev(self):\n",
    "        return self._stddev\n",
    "        \n",
    "    def summary_stats(self):\n",
    "        stddev = self.stddev\n",
    "        return (self.x_count, self.mean, self.variance, self.stddev)\n",
    "        "
   ]
  },
  {
   "cell_type": "code",
   "execution_count": null,
   "metadata": {},
   "outputs": [],
   "source": [
    "# Simple example of using the MyStatsUsingProperties class:\n",
    "xlist = [1.0, 2.0, 2.0, 3.0]\n",
    "#xlist = [1.0, 1.5, 1.8, 2.0, 2.0, 2.2, 2.5, 3.0]\n",
    "#xlist = [1.0, 1.5, 1.8, 1.9, 1.99, 2.0, 2.0, 2.01, 2.1, 2.2, 2.5, 3.0]\n",
    "\n",
    "mystat1 = MyStatsUsingProperties(xlist)\n",
    "\n",
    "count, mu, variance, stddev = mystat1.summary_stats()\n",
    "\n",
    "print('count: {}\\tmean: {:0.4f}\\tvariance: {:0.4f}\\tstddev: {:0.4f}'.format(count, mu, variance, stddev))"
   ]
  },
  {
   "cell_type": "markdown",
   "metadata": {},
   "source": [
    "## Using Python packages with import"
   ]
  },
  {
   "cell_type": "markdown",
   "metadata": {},
   "source": [
    "One of the strengths of Python is the large number of packages that are available to do a wide range of tasks such as mathematics, date and time computations, plotting, accessing internet sites and using their APIs, reading AWS S3 data, etc. To make use of the functions in a package, you __import__ it. This is typically done at the top of a Python program as we've seen in this notebook, but that's not strictly necessary. For example, we have already imported the math package. To use a function like `sqrt()` we just do:"
   ]
  },
  {
   "cell_type": "code",
   "execution_count": null,
   "metadata": {},
   "outputs": [],
   "source": [
    "# Then we can use the functions in the math package. Such as:\n",
    "x = 4.0\n",
    "math.sqrt(x)"
   ]
  },
  {
   "cell_type": "markdown",
   "metadata": {},
   "source": [
    "## Interacting with the Operating System"
   ]
  },
  {
   "cell_type": "markdown",
   "metadata": {},
   "source": [
    "Python has very convenient tools for interacting with the operating system to do things like determine your current working directory, change directory, and manipulate filenames and file paths. We will need the home directory in order to read some data files later in this tutorial. We can find that out easily and use it to set the data directory we need:"
   ]
  },
  {
   "cell_type": "code",
   "execution_count": null,
   "metadata": {},
   "outputs": [],
   "source": [
    "homedir = os.path.expanduser('~')\n",
    "homedir"
   ]
  },
  {
   "cell_type": "markdown",
   "metadata": {},
   "source": [
    "Or:"
   ]
  },
  {
   "cell_type": "code",
   "execution_count": null,
   "metadata": {},
   "outputs": [],
   "source": [
    "homedir = os.environ['HOME']\n",
    "homedir"
   ]
  },
  {
   "cell_type": "markdown",
   "metadata": {},
   "source": [
    "We can also get the current working directory:"
   ]
  },
  {
   "cell_type": "code",
   "execution_count": null,
   "metadata": {},
   "outputs": [],
   "source": [
    "current_dir = os.getcwd()\n",
    "current_dir"
   ]
  },
  {
   "cell_type": "markdown",
   "metadata": {},
   "source": [
    "We then use os.path.join() to put together the data path, which we will use later."
   ]
  },
  {
   "cell_type": "code",
   "execution_count": null,
   "metadata": {},
   "outputs": [],
   "source": [
    "parent_dir, last_path_component = os.path.split(current_dir)\n",
    "datadir = os.path.join(parent_dir, 'data')\n",
    "datadir"
   ]
  },
  {
   "cell_type": "markdown",
   "metadata": {},
   "source": [
    "## Plotting"
   ]
  },
  {
   "cell_type": "markdown",
   "metadata": {},
   "source": [
    "Python has a wealth of plotting functions in several packages. One of the most commonly used plotting package (and one of the older ones) is `matplotlib` . You can do a very wide range of kinds of plots using `matplotlib` . Thankfully, creating simple plots is easy. Creating more complex ones becomes... non-intuitive. Thankfully there is both good documentation and many tutorials online. Here's a starting point:\n",
    "\n",
    "https://matplotlib.org/tutorials/index.html"
   ]
  },
  {
   "cell_type": "markdown",
   "metadata": {},
   "source": [
    "Now that we have the ability to conveniently do a bit of math, let's plot a function. Like square root:\n"
   ]
  },
  {
   "cell_type": "code",
   "execution_count": null,
   "metadata": {},
   "outputs": [],
   "source": [
    "xlist = list(range(10))\n",
    "ylist = [math.sqrt(x) for x in xlist]\n",
    "print('xlist: {}'.format(xlist))\n",
    "print('ylist: {}'.format([float('{0:0.2f}'.format(y)) for y in ylist]))"
   ]
  },
  {
   "cell_type": "markdown",
   "metadata": {},
   "source": [
    "NB: We will see a much better way to format floating point numbers later."
   ]
  },
  {
   "cell_type": "code",
   "execution_count": null,
   "metadata": {},
   "outputs": [],
   "source": [
    "plt.figure()\n",
    "plt.xlabel('x')\n",
    "plt.ylabel('sqrt(x)')\n",
    "plt.title('Square Root')\n",
    "plt.scatter(xlist, ylist, c='b', label='sqrt')\n",
    "plt.legend()\n",
    "plt.savefig('_example_sqrt_plot.png')\n",
    "plt.show()"
   ]
  },
  {
   "cell_type": "markdown",
   "metadata": {},
   "source": [
    "Of course we can also plot multiple datasets on one plot, do line plots, histograms, set the min and max of the axes, set the colors and line types, etc."
   ]
  },
  {
   "cell_type": "markdown",
   "metadata": {},
   "source": [
    "## numpy : Numeric data structures package for Python"
   ]
  },
  {
   "cell_type": "markdown",
   "metadata": {},
   "source": [
    "We have done some numeric computations in our examples thus far, but the code to do them has been more tedious than we should demand from a modern programming language. Frankly, using for-loops to iterate over lists of numbers is just too C-like. \n",
    "\n",
    "There is a Python package created to make operations on vectors and matrices of numbers much easier and faster: `numpy` .\n",
    "\n",
    "numpy allows us to express numeric operations on vectors and matrices of numbers in a way that is much closer to the way we do in mathematics: by doing operations on entire vectors and matrices. Importantly, this enables us to exploit the vector processing operations available on modern CPUs to greatly increase their speed.\n",
    "\n",
    "Python on its own does not do mathematics very fast. Think about it: it's usually processing lists and dictionaries and thus cannot rely on the locality of data that C has with its arrays. One big advantage that Python does have is you can conveniently call C/C++ functions from Python and thus get the speed of C while writing code in Python. numpy is basically a wrapper on top of the C++ Standard Library `vector` functions."
   ]
  },
  {
   "cell_type": "markdown",
   "metadata": {},
   "source": [
    "### numpy arrays"
   ]
  },
  {
   "cell_type": "markdown",
   "metadata": {},
   "source": [
    "The numpy `array` is the primary data container in numpy. These arrays can be:\n",
    "- Zero dimensional : scalar\n",
    "- One dimensional: vector\n",
    "- Two dimensional: matrix\n",
    "- etc.\n"
   ]
  },
  {
   "cell_type": "markdown",
   "metadata": {},
   "source": [
    "Let's start by constructing a few numpy arrays:"
   ]
  },
  {
   "cell_type": "code",
   "execution_count": null,
   "metadata": {},
   "outputs": [],
   "source": [
    "# First, construct a numpy array from a Python list:\n",
    "array1 = np.array([0, 5, 3, 7])\n",
    "array1"
   ]
  },
  {
   "cell_type": "markdown",
   "metadata": {},
   "source": [
    "Numpy arrays have several useful properties, such as size, shape, and data type. You can specify some of these when you construct the array. If you don't specify them, the numpy constructor you use will do its best to infer them. For the example above, we have:"
   ]
  },
  {
   "cell_type": "code",
   "execution_count": null,
   "metadata": {},
   "outputs": [],
   "source": [
    "print('array1 properties:')\n",
    "print('array1 size:\\t{}'.format(array1.size))\n",
    "print('array1 shape:\\t{}'.format(array1.shape))\n",
    "print('array1 dtype:\\t{}'.format(array1.dtype))"
   ]
  },
  {
   "cell_type": "markdown",
   "metadata": {},
   "source": [
    "There are numpy array constructors to give you arrays filled with zeros, ones, or the identity matrix:"
   ]
  },
  {
   "cell_type": "code",
   "execution_count": null,
   "metadata": {},
   "outputs": [],
   "source": [
    "myzero1 = np.zeros(6)\n",
    "myzero1"
   ]
  },
  {
   "cell_type": "markdown",
   "metadata": {},
   "source": [
    "You can specify the shape of the array and its datatype:"
   ]
  },
  {
   "cell_type": "code",
   "execution_count": null,
   "metadata": {},
   "outputs": [],
   "source": [
    "myzero2 = np.zeros((3,2), dtype=np.float32)\n",
    "myzero2"
   ]
  },
  {
   "cell_type": "code",
   "execution_count": null,
   "metadata": {},
   "outputs": [],
   "source": [
    "print('myzero2 shape: {}\\tdtype: {}'.format(myzero2.shape, myzero2.dtype))"
   ]
  },
  {
   "cell_type": "code",
   "execution_count": null,
   "metadata": {},
   "outputs": [],
   "source": [
    "myones = np.ones((3,4), dtype=np.int32)\n",
    "myones"
   ]
  },
  {
   "cell_type": "code",
   "execution_count": null,
   "metadata": {},
   "outputs": [],
   "source": [
    "myidentity3 = np.identity(3, dtype=np.float32)\n",
    "myidentity3"
   ]
  },
  {
   "cell_type": "code",
   "execution_count": null,
   "metadata": {},
   "outputs": [],
   "source": [
    "myeye3 = np.eye(3, k=1)\n",
    "myeye3"
   ]
  },
  {
   "cell_type": "markdown",
   "metadata": {},
   "source": [
    "### Operations on numpy arrays"
   ]
  },
  {
   "cell_type": "markdown",
   "metadata": {},
   "source": [
    "Now that we can create `numpy` arrays, let's see what kind of operations we can do on them. As you'd expect, we can do typical math and arithmetic operations on entire arrays in single numpy function call."
   ]
  },
  {
   "cell_type": "code",
   "execution_count": null,
   "metadata": {},
   "outputs": [],
   "source": [
    "array2 = np.array(range(5))\n",
    "array2"
   ]
  },
  {
   "cell_type": "code",
   "execution_count": null,
   "metadata": {},
   "outputs": [],
   "source": [
    "# There are better ways to create arrays that hold a sequence of numbers, but what we did above is a naive example.\n",
    "\n",
    "# Let's first compute a few properties of this array such as the min, max, sum and mean:\n",
    "min2 = np.min(array2)\n",
    "\n",
    "# Member function syntax:\n",
    "max2 = array2.max()\n",
    "sum2 = array2.sum()\n",
    "mean2 = array2.mean()\n",
    "\n",
    "print('array2 min: {}\\tmax: {}\\tsum: {}\\tmean: {}'.format(min2, max2, sum2, mean2))\n"
   ]
  },
  {
   "cell_type": "markdown",
   "metadata": {},
   "source": [
    "And we can do these for multi-dimensional arrays.\n",
    "\n",
    "In this case, we can specify whether we want the property computed:\n",
    "- For the entire array\n",
    "- Across the rows\n",
    "- Down the columns\n",
    "\n",
    "This is specified with the `axis` parameter to all of these functions:\n"
   ]
  },
  {
   "cell_type": "code",
   "execution_count": null,
   "metadata": {},
   "outputs": [],
   "source": [
    "# Let's create a simple 2D matrix:\n",
    "mymat1 = np.array([[0, 1, 2], [1, 2, 3]])\n",
    "mymat1"
   ]
  },
  {
   "cell_type": "code",
   "execution_count": null,
   "metadata": {},
   "outputs": [],
   "source": [
    "# Compute minimum for each column:\n",
    "mymat1.min(axis=0)"
   ]
  },
  {
   "cell_type": "code",
   "execution_count": null,
   "metadata": {},
   "outputs": [],
   "source": [
    "# Compute maximum for each row:\n",
    "mymat1.max(axis=1)"
   ]
  },
  {
   "cell_type": "code",
   "execution_count": null,
   "metadata": {},
   "outputs": [],
   "source": [
    "# Compute max overall:\n",
    "np.max(mymat1)"
   ]
  },
  {
   "cell_type": "code",
   "execution_count": null,
   "metadata": {},
   "outputs": [],
   "source": [
    "# Compute sum for each row:\n",
    "mymat1.sum(axis=1)"
   ]
  },
  {
   "cell_type": "markdown",
   "metadata": {},
   "source": [
    "#### Array arithmetic"
   ]
  },
  {
   "cell_type": "markdown",
   "metadata": {},
   "source": [
    "#### Adding arrays together:"
   ]
  },
  {
   "cell_type": "code",
   "execution_count": null,
   "metadata": {},
   "outputs": [],
   "source": [
    "# Add together two 3x3 matrices:\n",
    "mymat2 = myidentity3 + myeye3\n",
    "mymat2"
   ]
  },
  {
   "cell_type": "markdown",
   "metadata": {},
   "source": [
    "#### Add scalar to each matrix element:"
   ]
  },
  {
   "cell_type": "code",
   "execution_count": null,
   "metadata": {},
   "outputs": [],
   "source": [
    "# We can add 1 to each element:\n",
    "mymat3 = mymat2 + 1\n",
    "mymat3"
   ]
  },
  {
   "cell_type": "markdown",
   "metadata": {},
   "source": [
    "#### Apply a math function to each element:"
   ]
  },
  {
   "cell_type": "code",
   "execution_count": null,
   "metadata": {},
   "outputs": [],
   "source": [
    "# We can take the square root of each element:\n",
    "mymat4 = np.sqrt(mymat3)\n",
    "mymat4"
   ]
  },
  {
   "cell_type": "markdown",
   "metadata": {},
   "source": [
    "#### Array operations: dot product and matrix multiplication"
   ]
  },
  {
   "cell_type": "code",
   "execution_count": null,
   "metadata": {},
   "outputs": [],
   "source": [
    "array2 = np.array([1, 2, 3])\n",
    "array3 = np.array([2, 3, 4])\n",
    "dotprod23 = np.dot(array2, array3)\n",
    "dotprod23"
   ]
  },
  {
   "cell_type": "code",
   "execution_count": null,
   "metadata": {},
   "outputs": [],
   "source": [
    "mymat3 = np.array([[1, 2], [3, 4], [5, 6]])\n",
    "mymat3"
   ]
  },
  {
   "cell_type": "code",
   "execution_count": null,
   "metadata": {},
   "outputs": [],
   "source": [
    "mymat4 = np.array([[0, 1], [1, 1]])\n",
    "mymat4"
   ]
  },
  {
   "cell_type": "code",
   "execution_count": null,
   "metadata": {},
   "outputs": [],
   "source": [
    "matmul34 = np.matmul(mymat3, mymat4)\n",
    "matmul34"
   ]
  },
  {
   "cell_type": "markdown",
   "metadata": {},
   "source": [
    "## Plotting using numpy vectors"
   ]
  },
  {
   "cell_type": "markdown",
   "metadata": {},
   "source": [
    "From here on out most of our mathematics will be done with numpy. Later we will introduce Pandas for manipulating dataframes (ala R and some aspects of spark). Both of these will generate much richer data that we will need to visualize. Not surprisingly, Python's plotting packages are designed to use these data."
   ]
  },
  {
   "cell_type": "markdown",
   "metadata": {},
   "source": [
    "For a quick example, we will plot two math functions using matplotlib. We generate the x data using numpy and then almost trivially compute two functions of these data to plot."
   ]
  },
  {
   "cell_type": "code",
   "execution_count": null,
   "metadata": {},
   "outputs": [],
   "source": [
    "# Using numpy linspace to generate a set of x values:\n",
    "xs = np.linspace(0.1, 10.0, num=100)\n",
    "xs"
   ]
  },
  {
   "cell_type": "code",
   "execution_count": null,
   "metadata": {},
   "outputs": [],
   "source": [
    "# Continuing with the theme, let's start with square root.\n",
    "# Notice how easy it is to do these computations across entire numpy arrays.\n",
    "ysqrt = np.sqrt(xs)\n",
    "\n",
    "# Then let's use log (base e)\n",
    "ylog = np.log(xs)"
   ]
  },
  {
   "cell_type": "code",
   "execution_count": null,
   "metadata": {},
   "outputs": [],
   "source": [
    "# Plot these two functions:\n",
    "plt.figure()\n",
    "plt.xlabel('x')\n",
    "plt.ylabel('y')\n",
    "plt.title('Two functions: sqrt and ln')\n",
    "plt.plot(xs, ysqrt, 'b-', label='sqrt')\n",
    "plt.plot(xs, ylog, 'r--', label='ln')\n",
    "plt.legend()\n",
    "plt.show()\n"
   ]
  },
  {
   "cell_type": "markdown",
   "metadata": {},
   "source": [
    "For details on the parameters in these plotting functions for things such as setting the line style and color, see:\n",
    "\n",
    "https://matplotlib.org/users/pyplot_tutorial.html"
   ]
  },
  {
   "cell_type": "markdown",
   "metadata": {},
   "source": [
    "The plotting shown above is just a simple example. Python's plotting libraries make it relatively easy to plot:\n",
    "- Bar charts\n",
    "- Histograms\n",
    "- Temperature plots using color gradients\n",
    "- Multiple subplots\n",
    "  - with the appropriate control over axes ranges to compare subplots\n",
    "- etc.\n",
    "\n",
    "These functions give you a wide range of tools to help visualize numpy data. And there are more when you have Pandas DataFrame data.\n"
   ]
  },
  {
   "cell_type": "markdown",
   "metadata": {},
   "source": [
    "## Pandas"
   ]
  },
  {
   "cell_type": "markdown",
   "metadata": {},
   "source": [
    "The Pandas package provides functions to define and manipulate data objects called the `DataFrame` . These are basically tables with rows and columns. The columns have names. Each row is basically a record. For our data science and machine learning work we often use Pandas for data munging, aggregating data, and visualizing data."
   ]
  },
  {
   "cell_type": "markdown",
   "metadata": {},
   "source": [
    "### Creating a Pandas Dataframe"
   ]
  },
  {
   "cell_type": "markdown",
   "metadata": {},
   "source": [
    "There are a number of ways to create a Pandas Dataframe. The most common, not surprisingly, is to read data from a file. But before I show that, you can also create a Pandas Dataframe in Python code by using a dictionary. There is a Pandas Dataframe constructor that takes a dictionary where the keys become the column names of the DataFrame and the values are lists which become the contents of the columns. As an example we use the common country and capital data example:"
   ]
  },
  {
   "cell_type": "code",
   "execution_count": null,
   "metadata": {},
   "outputs": [],
   "source": [
    "capital_dict = {\"country\": [\"Brazil\", \"Russia\", \"India\", \"China\", \"South Africa\"],\n",
    "       \"capital\": [\"Brasilia\", \"Moscow\", \"New Dehli\", \"Beijing\", \"Pretoria\"],\n",
    "       \"area\": [8.516, 17.10, 3.286, 9.597, 1.221],\n",
    "       \"population\": [200.4, 143.5, 1252, 1357, 52.98] }\n",
    "\n",
    "brics = pd.DataFrame(capital_dict)\n",
    "print(brics)"
   ]
  },
  {
   "cell_type": "markdown",
   "metadata": {},
   "source": [
    "As noted above, we can create a new DataFrame by reading data from a file. Pandas is pretty darn flexible -- you can read from text files such as csv files as well as richer formats such as Excel files! In this tutorial we use the common iris dataset that holds data on the sepal and petal widths and lengths of several species of iris flowers. This dataset is often used in machine learning tutorials."
   ]
  },
  {
   "cell_type": "markdown",
   "metadata": {},
   "source": [
    "The Pandas `read_csv()` function has many optional parameters, but the defaults are good for many cases. Using the defaults it expects that the file will be a text file with a fixed number of fields per line, with the first line containing the column headers. It will attempt to infer the data types of each column."
   ]
  },
  {
   "cell_type": "code",
   "execution_count": null,
   "metadata": {},
   "outputs": [],
   "source": [
    "df = pd.read_csv(os.path.join(datadir, 'iris.csv'), sep=',')\n",
    "df.head(16)"
   ]
  },
  {
   "cell_type": "markdown",
   "metadata": {},
   "source": [
    "### Accessing rows, columns, and individual elements of a DataFrame"
   ]
  },
  {
   "cell_type": "markdown",
   "metadata": {},
   "source": [
    "In both of these DataFrame examples we see that each column has a name and each row has an index. We use these to access a particular element of a dataframe or entire rows or columns. For good examples of how to do this, see:\n",
    "\n",
    "https://www.datacamp.com/community/tutorials/pandas-tutorial-dataframe-python"
   ]
  },
  {
   "cell_type": "markdown",
   "metadata": {},
   "source": [
    "#### To access a particular element, say the second element of row zero:"
   ]
  },
  {
   "cell_type": "markdown",
   "metadata": {},
   "source": [
    "There are several ways. The one you use depends on your task:"
   ]
  },
  {
   "cell_type": "code",
   "execution_count": null,
   "metadata": {},
   "outputs": [],
   "source": [
    "# Access by indices:\n",
    "df.iloc[0][1]"
   ]
  },
  {
   "cell_type": "code",
   "execution_count": null,
   "metadata": {},
   "outputs": [],
   "source": [
    "# Access using row index and column name:\n",
    "df.loc[0]['sepal_width']"
   ]
  },
  {
   "cell_type": "code",
   "execution_count": null,
   "metadata": {},
   "outputs": [],
   "source": [
    "# Using the at function:\n",
    "df.at[0, 'sepal_width']"
   ]
  },
  {
   "cell_type": "code",
   "execution_count": null,
   "metadata": {},
   "outputs": [],
   "source": [
    "# Using the at function with indices:\n",
    "df.iat[0, 1]"
   ]
  },
  {
   "cell_type": "markdown",
   "metadata": {},
   "source": [
    "#### To access a column:"
   ]
  },
  {
   "cell_type": "code",
   "execution_count": null,
   "metadata": {},
   "outputs": [],
   "source": [
    "# Use the column name:\n",
    "df['sepal_width'].head(5)"
   ]
  },
  {
   "cell_type": "markdown",
   "metadata": {},
   "source": [
    "#### To access a row, say the second row:"
   ]
  },
  {
   "cell_type": "code",
   "execution_count": null,
   "metadata": {},
   "outputs": [],
   "source": [
    "# Use iloc[]\n",
    "df.iloc[1]"
   ]
  },
  {
   "cell_type": "markdown",
   "metadata": {},
   "source": [
    "### Selecting or filtering a DataFrame based on a condition"
   ]
  },
  {
   "cell_type": "markdown",
   "metadata": {},
   "source": [
    "Not surprisingly, like in numpy you can filter or select particular rows of data in a Pandas DataFrame based on some condition. Let's start with the simplest condition: test for equality:"
   ]
  },
  {
   "cell_type": "code",
   "execution_count": null,
   "metadata": {},
   "outputs": [],
   "source": [
    "brics[brics.country == 'China']"
   ]
  },
  {
   "cell_type": "markdown",
   "metadata": {},
   "source": [
    "You can of course use other conditionals:"
   ]
  },
  {
   "cell_type": "code",
   "execution_count": null,
   "metadata": {},
   "outputs": [],
   "source": [
    "brics[brics.population > 1000.0]"
   ]
  },
  {
   "cell_type": "markdown",
   "metadata": {},
   "source": [
    "### Computing Descriptive Statistics"
   ]
  },
  {
   "cell_type": "markdown",
   "metadata": {},
   "source": [
    "Like in numpy, we can compute a number of statistical properties of the data in a DataFrame such as the min, max, sum and mean. For example, for the iris petal_width column:"
   ]
  },
  {
   "cell_type": "code",
   "execution_count": null,
   "metadata": {},
   "outputs": [],
   "source": [
    "df['petal_width'].count()"
   ]
  },
  {
   "cell_type": "code",
   "execution_count": null,
   "metadata": {},
   "outputs": [],
   "source": [
    "df['petal_width'].min()"
   ]
  },
  {
   "cell_type": "code",
   "execution_count": null,
   "metadata": {},
   "outputs": [],
   "source": [
    "df['petal_width'].max()"
   ]
  },
  {
   "cell_type": "code",
   "execution_count": null,
   "metadata": {},
   "outputs": [],
   "source": [
    "df['petal_width'].sum()"
   ]
  },
  {
   "cell_type": "code",
   "execution_count": null,
   "metadata": {},
   "outputs": [],
   "source": [
    "df['petal_width'].mean()"
   ]
  },
  {
   "cell_type": "markdown",
   "metadata": {},
   "source": [
    "And we can do this for a particular species of iris:"
   ]
  },
  {
   "cell_type": "code",
   "execution_count": null,
   "metadata": {},
   "outputs": [],
   "source": [
    "# The describe() function gives us summary statistics for a set of values.\n",
    "\n",
    "df[df.species == 'Iris-versicolor']['petal_width'].describe()"
   ]
  },
  {
   "cell_type": "markdown",
   "metadata": {},
   "source": [
    "We will see this more easily when we visualize these data in the plots below."
   ]
  },
  {
   "cell_type": "markdown",
   "metadata": {},
   "source": [
    "### Combining DataFrames"
   ]
  },
  {
   "cell_type": "markdown",
   "metadata": {},
   "source": [
    "Pandas provides many ways to combine dataframes together. You can do things as simple as concatenate two DataFrames together. Or do things that are equivalent to SQL joins. This is often used in data pre-processing for data science analytics and machine learning featurization tasks. For the moment in this tutorial we do not show any examples. \n",
    "For examples of these, see:\n",
    "\n",
    "http://pandas.pydata.org/pandas-docs/stable/user_guide/merging.html"
   ]
  },
  {
   "cell_type": "markdown",
   "metadata": {},
   "source": [
    "### Plotting DataFrame data"
   ]
  },
  {
   "cell_type": "markdown",
   "metadata": {},
   "source": [
    "We will show a number of examples of plotting using Pandas Dataframes because it is so useful in data science work for visualization. Not surprisingly, many Python plotting packages exploit the structure we get from DataFrames to enable the plotting commands to be easier and more expressive. For good examples, see:\n",
    "\n",
    "https://dsaber.com/2016/10/02/a-dramatic-tour-through-pythons-data-visualization-landscape-including-ggplot-and-altair/"
   ]
  },
  {
   "cell_type": "markdown",
   "metadata": {},
   "source": [
    "We use the iris dataset to show a few examples of using the Seaborn plotting package. We start with scatter plots of the petal width vs. petal length for the different species of iris. Each species gets its own color for its data points."
   ]
  },
  {
   "cell_type": "code",
   "execution_count": null,
   "metadata": {},
   "outputs": [],
   "source": [
    "sns.set(style='darkgrid')\n",
    "g1 = sns.FacetGrid(df, hue='species', height=6.0)\n",
    "g1.map(plt.scatter, 'petal_length', 'petal_width').add_legend()\n",
    "g1.ax.set_title('Petal Width v. Length -- by Species')"
   ]
  },
  {
   "cell_type": "markdown",
   "metadata": {},
   "source": [
    "Seaborn also makes it easy to plot subplots and keep the axis limits aligned correctly:"
   ]
  },
  {
   "cell_type": "code",
   "execution_count": null,
   "metadata": {},
   "outputs": [],
   "source": [
    "g3 = sns.FacetGrid(df, col='species', hue='species', height=4)\n",
    "g3.map(plt.scatter, 'petal_length', 'petal_width')"
   ]
  },
  {
   "cell_type": "markdown",
   "metadata": {},
   "source": [
    "We can see that the values of some of the features like petal width and petal length cluster for the different species of iris. So we might like to visualize some of the statistical properties of these values, such as the mean and standard deviation of their distributions. Several of the Python plotting packages make that pretty easy. I use Seaborn to do box plots for iris petal width for this example:"
   ]
  },
  {
   "cell_type": "code",
   "execution_count": null,
   "metadata": {},
   "outputs": [],
   "source": [
    "fig, ax = plt.subplots(1, 1, figsize=(10, 10))\n",
    " \n",
    "gbox = sns.boxplot('species', 'petal_width', data=df, ax=ax)\n",
    "gbox.set(title='Distribution of Petal Width by Species')"
   ]
  },
  {
   "cell_type": "markdown",
   "metadata": {},
   "source": [
    "And finally, histograms are so useful for getting a detailed view of a distribution. Again we use the iris petal width example:"
   ]
  },
  {
   "cell_type": "code",
   "execution_count": null,
   "metadata": {},
   "outputs": [],
   "source": [
    "ghist = sns.FacetGrid(df, hue='species', height=8)\n",
    " \n",
    "ghist.map(sns.distplot, 'petal_width', bins=10,\n",
    "      kde=False, rug=True).add_legend()\n",
    " \n",
    "ghist.set(xlabel='Petal Width',\n",
    "      ylabel='Frequency',\n",
    "      title='Distribution of Petal Width by Species')"
   ]
  },
  {
   "cell_type": "markdown",
   "metadata": {},
   "source": [
    "### Next Steps:"
   ]
  },
  {
   "cell_type": "markdown",
   "metadata": {},
   "source": [
    "What we have done thus far provides enough so you can both read and understand a Python program. In order to write you own Python programs, next steps would be to:\n",
    "- Get help installing an appropriate Python release on your machine.\n",
    "- Setup tools (like an editor) for writing a Python program and experimenting with it.\n",
    "- Write several simple Python programs for practice.\n",
    "  - Explore:\n",
    "    - Traditional Python\n",
    "    - Numpy\n",
    "    - Pandas\n",
    "    - Plotting\n",
    "      - Start with matplotlib\n",
    "      - Using Seaborn once you start using Pandas\n"
   ]
  },
  {
   "cell_type": "markdown",
   "metadata": {},
   "source": [
    "### Typical Python development environment:"
   ]
  },
  {
   "cell_type": "markdown",
   "metadata": {},
   "source": [
    "- Python release:\n",
    "  - The easiest one to use is Anaconda.\n",
    "  - Install the one for Python 3\n",
    "- Dev environment:\n",
    "  - You can still use vi or emacs and be just fine.\n",
    "  - Others have gone with an IDE\n",
    "    - The most commonly used one with Python is PyCharm (or IntelliJ if you already have that installed)\n",
    "    - I'm impressed with Microsoft's Visual Studio Code version for the Mac. It's pretty clean.\n",
    "- For experiments:\n",
    "  - iPython\n",
    "  - Jupyter notebooks\n",
    "  \n",
    "- For collaboration and version control:\n",
    "  - git, github\n",
    "  - and your usual tools for Continuous Integration if you have that setup\n",
    "  "
   ]
  },
  {
   "cell_type": "code",
   "execution_count": null,
   "metadata": {},
   "outputs": [],
   "source": []
  }
 ],
 "metadata": {
  "kernelspec": {
   "display_name": "Python 3",
   "language": "python",
   "name": "python3"
  },
  "language_info": {
   "codemirror_mode": {
    "name": "ipython",
    "version": 3
   },
   "file_extension": ".py",
   "mimetype": "text/x-python",
   "name": "python",
   "nbconvert_exporter": "python",
   "pygments_lexer": "ipython3",
   "version": "3.6.7"
  }
 },
 "nbformat": 4,
 "nbformat_minor": 2
}
